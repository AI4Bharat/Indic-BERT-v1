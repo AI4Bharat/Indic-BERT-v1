{
  "nbformat": 4,
  "nbformat_minor": 0,
  "metadata": {
    "colab": {
      "name": "finetuning.ipynb",
      "provenance": [],
      "collapsed_sections": []
    },
    "kernelspec": {
      "name": "python3",
      "display_name": "Python 3"
    },
    "accelerator": "GPU"
  },
  "cells": [
    {
      "cell_type": "markdown",
      "metadata": {
        "id": "duPhpC7UYvOb",
        "colab_type": "text"
      },
      "source": [
        "#**Setup**\n",
        "\n",
        "---\n",
        "\n"
      ]
    },
    {
      "cell_type": "code",
      "metadata": {
        "id": "IbttigwcSQs7",
        "colab_type": "code",
        "colab": {
          "base_uri": "https://localhost:8080/",
          "height": 34
        },
        "outputId": "9f87fe7e-8e7c-42cf-d8f5-edf04d56b232"
      },
      "source": [
        "!ls"
      ],
      "execution_count": 1,
      "outputs": [
        {
          "output_type": "stream",
          "text": [
            "sample_data\n"
          ],
          "name": "stdout"
        }
      ]
    },
    {
      "cell_type": "code",
      "metadata": {
        "id": "08KZUbQnhKwE",
        "colab_type": "code",
        "colab": {}
      },
      "source": [
        "!git clone https://<username>:<password>@github.com/ai4bharat/indic-bert\n",
        "%cd indic-bert\n",
        "!pip3 install -r requirements.txt\n",
        "%cd ..\n",
        "!mkdir iglue outputs models"
      ],
      "execution_count": null,
      "outputs": []
    },
    {
      "cell_type": "markdown",
      "metadata": {
        "id": "YT-2GiHuUGB-",
        "colab_type": "text"
      },
      "source": [
        "#**Configuration Variables**\n",
        "\n",
        "\n",
        "---\n",
        "\n"
      ]
    },
    {
      "cell_type": "code",
      "metadata": {
        "id": "4ys4dfUCVTgC",
        "colab_type": "code",
        "colab": {}
      },
      "source": [
        "MODEL_NAME = 'models/indic-bert'\n",
        "TASK_NAME = 'agc'\n",
        "TRAIN_LANG = 'kn'\n",
        "TEST_LANG = 'kn'\n"
      ],
      "execution_count": null,
      "outputs": []
    },
    {
      "cell_type": "markdown",
      "metadata": {
        "id": "u4TbQgpAYrSL",
        "colab_type": "text"
      },
      "source": [
        "#**Download Models and Datasets**\n",
        "---\n"
      ]
    },
    {
      "cell_type": "code",
      "metadata": {
        "id": "B8Te43TtV9OV",
        "colab_type": "code",
        "colab": {}
      },
      "source": [
        "\n",
        "# !pip3 install google google-cloud-storage\n",
        "\n",
        "import os\n",
        "\n",
        "from google.cloud import storage\n",
        "\n",
        "# modify to specify other models, datasets. Paths must end with '/'\n",
        "model_path, model_name = 'multilingual/all/albert-base-orig-full-final/', 'indic-bert'\n",
        "dataset_path, dataset_name = 'wnli-translated/', 'indicnlp-articles'\n",
        "\n",
        "bucket_name = 'nlp-corpora--ai4bharat'\n",
        "bucket_store_key = 'indic-bert/keys/ai4b-gcp-key.json'\n",
        "client = storage.Client.from_service_account_json(bucket_store_key)\n",
        "bucket = client.get_bucket(bucket_name)\n",
        "\n",
        "def download(remote_path, download_path):\n",
        "  blobs = client.list_blobs(bucket_name, prefix=remote_path, delimiter=None)\n",
        "  filenames = []\n",
        "  for blob in blobs:\n",
        "    filename = blob.name[blob.name.rfind(remote_path)+len(remote_path):]\n",
        "    filename = os.path.join(download_path, filename)\n",
        "    os.makedirs(os.path.dirname(filename), exist_ok=True)\n",
        "    filenames.append(filename)\n",
        "    blob.download_to_filename(filename)\n",
        "\n",
        "download('indicnlp-datasets/evaluation/' + dataset_path, 'iglue/' + dataset_name)\n",
        "# download('indicnlp-bert/' + model_path, 'models/' + model_name)\n"
      ],
      "execution_count": 33,
      "outputs": []
    },
    {
      "cell_type": "markdown",
      "metadata": {
        "id": "cAs6r-QSUosR",
        "colab_type": "text"
      },
      "source": [
        "#**Fine-tune the Model**\n",
        "---\n",
        "\n"
      ]
    },
    {
      "cell_type": "code",
      "metadata": {
        "id": "vUCIjREpQFhv",
        "colab_type": "code",
        "colab": {}
      },
      "source": [
        "\n",
        "import os\n",
        "\n",
        "from fine_tune.cli import main as finetune_main\n",
        "\n",
        "argvec = [\n",
        "          '--train_lang', 'gu',\n",
        "          '--test_lang', 'gu',\n",
        "          '--task', 'agc',\n",
        "          '--model_name_or_path', 'bert-base-multilingual-cased',\n",
        "          '--config_name', '',\n",
        "          '--tokenizer_name', '',\n",
        "          '--data_dir', '../iglue/indicnlp-articles',\n",
        "          '--output_dir', '../outputs',\n",
        "          '--max_seq_length', '128',\n",
        "          '--learning_rate', '2e-5',\n",
        "          '--num_train_epochs', '3',\n",
        "          '--train_batch_size', '32',\n",
        "          '--seed', '2',\n",
        "          '--n_gpu', '1',\n",
        "          '--do_train',\n",
        "          '--do_predict'\n",
        "]\n",
        "\n",
        "finetune_main(argvec)"
      ],
      "execution_count": null,
      "outputs": []
    },
    {
      "cell_type": "markdown",
      "metadata": {
        "id": "zUh3Vw7SUwMW",
        "colab_type": "text"
      },
      "source": [
        "#**Check the Results**\n",
        "---"
      ]
    },
    {
      "cell_type": "code",
      "metadata": {
        "id": "Ic0Qpfl-U0Xw",
        "colab_type": "code",
        "colab": {}
      },
      "source": [
        ""
      ],
      "execution_count": null,
      "outputs": []
    }
  ]
}